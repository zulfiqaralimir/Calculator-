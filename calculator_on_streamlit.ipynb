{
  "nbformat": 4,
  "nbformat_minor": 0,
  "metadata": {
    "colab": {
      "provenance": [],
      "authorship_tag": "ABX9TyOkt1SFRKxWzYdJheT98y8l",
      "include_colab_link": true
    },
    "kernelspec": {
      "name": "python3",
      "display_name": "Python 3"
    },
    "language_info": {
      "name": "python"
    }
  },
  "cells": [
    {
      "cell_type": "markdown",
      "metadata": {
        "id": "view-in-github",
        "colab_type": "text"
      },
      "source": [
        "<a href=\"https://colab.research.google.com/github/zulfiqaralimir/Calculator-/blob/master/calculator_on_streamlit.ipynb\" target=\"_parent\"><img src=\"https://colab.research.google.com/assets/colab-badge.svg\" alt=\"Open In Colab\"/></a>"
      ]
    },
    {
      "cell_type": "markdown",
      "source": [
        "# A roadmap to help you build Calculator and Deploy it on Streamlit using Google Colab, GitHub, and Streamlit:"
      ],
      "metadata": {
        "id": "JOqyzGut7pEB"
      }
    },
    {
      "cell_type": "code",
      "execution_count": null,
      "metadata": {
        "colab": {
          "base_uri": "https://localhost:8080/"
        },
        "id": "RfI1v-FO7QqE",
        "outputId": "033270a7-0f3d-4f86-b3a9-88500c474593"
      },
      "outputs": [
        {
          "output_type": "stream",
          "name": "stdout",
          "text": [
            "Simple Calculator\n",
            "Select operation:\n",
            "1. Add\n",
            "2. Subtract\n",
            "3. Multiply\n",
            "4. Divide\n",
            "Enter choice (1/2/3/4): 2\n",
            "Enter first number: 25\n",
            "Enter second number: 32\n",
            "25.0 - 32.0 = -7.0\n"
          ]
        }
      ],
      "source": [
        "def calculator():\n",
        "    print(\"Simple Calculator\")\n",
        "    print(\"Select operation:\")\n",
        "    print(\"1. Add\")\n",
        "    print(\"2. Subtract\")\n",
        "    print(\"3. Multiply\")\n",
        "    print(\"4. Divide\")\n",
        "\n",
        "    choice = input(\"Enter choice (1/2/3/4): \")\n",
        "    num1 = float(input(\"Enter first number: \"))\n",
        "    num2 = float(input(\"Enter second number: \"))\n",
        "\n",
        "    if choice == '1':\n",
        "        print(f\"{num1} + {num2} = {num1 + num2}\")\n",
        "    elif choice == '2':\n",
        "        print(f\"{num1} - {num2} = {num1 - num2}\")\n",
        "    elif choice == '3':\n",
        "        print(f\"{num1} * {num2} = {num1 * num2}\")\n",
        "    elif choice == '4':\n",
        "        if num2 != 0:\n",
        "            print(f\"{num1} / {num2} = {num1 / num2}\")\n",
        "        else:\n",
        "            print(\"Cannot divide by zero\")\n",
        "    else:\n",
        "        print(\"Invalid input\")\n",
        "\n",
        "calculator()\n"
      ]
    },
    {
      "cell_type": "code",
      "source": [
        "#! pip install streamlit -q\n"
      ],
      "metadata": {
        "id": "zspQyJMUFpa-"
      },
      "execution_count": 1,
      "outputs": []
    },
    {
      "cell_type": "code",
      "source": [
        "#!wget -q -O - ipv4.icanhazip.com\n"
      ],
      "metadata": {
        "id": "zao8B51gHSUI",
        "outputId": "412dc82b-c9e8-4c7f-ea97-a1145699bf35",
        "colab": {
          "base_uri": "https://localhost:8080/"
        }
      },
      "execution_count": null,
      "outputs": [
        {
          "output_type": "stream",
          "name": "stdout",
          "text": [
            "34.125.14.251\n"
          ]
        }
      ]
    },
    {
      "cell_type": "code",
      "source": [
        "#! streamlit run app.py & npx localtunnel --port 8501"
      ],
      "metadata": {
        "id": "yj3XUCOiHUv3",
        "outputId": "de366479-d6cb-4eaa-fdad-dd9f6d409142",
        "colab": {
          "base_uri": "https://localhost:8080/"
        }
      },
      "execution_count": null,
      "outputs": [
        {
          "output_type": "stream",
          "name": "stdout",
          "text": [
            "\n",
            "Collecting usage statistics. To deactivate, set browser.gatherUsageStats to false.\n",
            "\u001b[0m\n",
            "\u001b[0m\n",
            "\u001b[34m\u001b[1m  You can now view your Streamlit app in your browser.\u001b[0m\n",
            "\u001b[0m\n",
            "\u001b[34m  Local URL: \u001b[0m\u001b[1mhttp://localhost:8501\u001b[0m\n",
            "\u001b[34m  Network URL: \u001b[0m\u001b[1mhttp://172.28.0.12:8501\u001b[0m\n",
            "\u001b[34m  External URL: \u001b[0m\u001b[1mhttp://34.125.14.251:8501\u001b[0m\n",
            "\u001b[0m\n",
            "\u001b[1G\u001b[0JNeed to install the following packages:\n",
            "  localtunnel@2.0.2\n",
            "Ok to proceed? (y) \u001b[20G"
          ]
        }
      ]
    },
    {
      "cell_type": "markdown",
      "source": [
        "# Scientific Calculator"
      ],
      "metadata": {
        "id": "eJb5eHyjq9jm"
      }
    },
    {
      "cell_type": "code",
      "source": [
        "import math\n",
        "\n",
        "def scientific_calculator():\n",
        "    print(\"Scientific Calculator\")\n",
        "    print(\"Select operation:\")\n",
        "    print(\"1. Add\")\n",
        "    print(\"2. Subtract\")\n",
        "    print(\"3. Multiply\")\n",
        "    print(\"4. Divide\")\n",
        "    print(\"5. Sine\")\n",
        "    print(\"6. Cosine\")\n",
        "    print(\"7. Tangent\")\n",
        "    print(\"8. Logarithm (base 10)\")\n",
        "    print(\"9. Square Root\")\n",
        "    print(\"10. Power (x^y)\")\n",
        "\n",
        "    choice = input(\"Enter choice (1-10): \")\n",
        "    if choice in ['5', '6', '7', '8', '9']:  # Operations with one operand\n",
        "        num = float(input(\"Enter the number: \"))\n",
        "\n",
        "        if choice == '5':\n",
        "            print(f\"sin({num}) = {math.sin(math.radians(num))}\")\n",
        "        elif choice == '6':\n",
        "            print(f\"cos({num}) = {math.cos(math.radians(num))}\")\n",
        "        elif choice == '7':\n",
        "            print(f\"tan({num}) = {math.tan(math.radians(num))}\")\n",
        "        elif choice == '8':\n",
        "            print(f\"log({num}) = {math.log10(num)}\")\n",
        "        elif choice == '9':\n",
        "            print(f\"√{num} = {math.sqrt(num)}\")\n",
        "\n",
        "    else:  # Operations with two operands\n",
        "        num1 = float(input(\"Enter first number: \"))\n",
        "        num2 = float(input(\"Enter second number: \"))\n",
        "\n",
        "        if choice == '1':\n",
        "            print(f\"{num1} + {num2} = {num1 + num2}\")\n",
        "        elif choice == '2':\n",
        "            print(f\"{num1} - {num2} = {num1 - num2}\")\n",
        "        elif choice == '3':\n",
        "            print(f\"{num1} * {num2} = {num1 * num2}\")\n",
        "        elif choice == '4':\n",
        "            if num2 != 0:\n",
        "                print(f\"{num1} / {num2} = {num1 / num2}\")\n",
        "            else:\n",
        "                print(\"Cannot divide by zero\")\n",
        "        elif choice == '10':\n",
        "            print(f\"{num1}^{num2} = {math.pow(num1, num2)}\")\n",
        "        else:\n",
        "            print(\"Invalid input\")\n",
        "\n",
        "# Run the calculator\n",
        "scientific_calculator()"
      ],
      "metadata": {
        "id": "ZGGgKR2nrB8h",
        "outputId": "7719d51d-2d38-4371-ca7a-3e95f95f5ae3",
        "colab": {
          "base_uri": "https://localhost:8080/"
        }
      },
      "execution_count": 6,
      "outputs": [
        {
          "output_type": "stream",
          "name": "stdout",
          "text": [
            "Scientific Calculator\n",
            "Select operation:\n",
            "1. Add\n",
            "2. Subtract\n",
            "3. Multiply\n",
            "4. Divide\n",
            "5. Sine\n",
            "6. Cosine\n",
            "7. Tangent\n",
            "8. Logarithm (base 10)\n",
            "9. Square Root\n",
            "10. Power (x^y)\n",
            "Enter choice (1-10): 10\n",
            "Enter first number: 10\n",
            "Enter second number: 3\n",
            "10.0^3.0 = 1000.0\n"
          ]
        }
      ]
    }
  ]
}