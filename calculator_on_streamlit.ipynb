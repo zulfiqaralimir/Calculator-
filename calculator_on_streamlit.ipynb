{
  "nbformat": 4,
  "nbformat_minor": 0,
  "metadata": {
    "colab": {
      "provenance": [],
      "authorship_tag": "ABX9TyM6QJNCFtwoJ29SXYse3oRQ",
      "include_colab_link": true
    },
    "kernelspec": {
      "name": "python3",
      "display_name": "Python 3"
    },
    "language_info": {
      "name": "python"
    }
  },
  "cells": [
    {
      "cell_type": "markdown",
      "metadata": {
        "id": "view-in-github",
        "colab_type": "text"
      },
      "source": [
        "<a href=\"https://colab.research.google.com/github/zulfiqaralimir/Calculator-/blob/master/calculator_on_streamlit.ipynb\" target=\"_parent\"><img src=\"https://colab.research.google.com/assets/colab-badge.svg\" alt=\"Open In Colab\"/></a>"
      ]
    },
    {
      "cell_type": "markdown",
      "source": [
        "# A roadmap to help you build Calculator and Deploy it on Streamlit using Google Colab, GitHub, and Streamlit:"
      ],
      "metadata": {
        "id": "JOqyzGut7pEB"
      }
    },
    {
      "cell_type": "code",
      "execution_count": null,
      "metadata": {
        "colab": {
          "base_uri": "https://localhost:8080/"
        },
        "id": "RfI1v-FO7QqE",
        "outputId": "033270a7-0f3d-4f86-b3a9-88500c474593"
      },
      "outputs": [
        {
          "output_type": "stream",
          "name": "stdout",
          "text": [
            "Simple Calculator\n",
            "Select operation:\n",
            "1. Add\n",
            "2. Subtract\n",
            "3. Multiply\n",
            "4. Divide\n",
            "Enter choice (1/2/3/4): 2\n",
            "Enter first number: 25\n",
            "Enter second number: 32\n",
            "25.0 - 32.0 = -7.0\n"
          ]
        }
      ],
      "source": [
        "def calculator():\n",
        "    print(\"Simple Calculator\")\n",
        "    print(\"Select operation:\")\n",
        "    print(\"1. Add\")\n",
        "    print(\"2. Subtract\")\n",
        "    print(\"3. Multiply\")\n",
        "    print(\"4. Divide\")\n",
        "\n",
        "    choice = input(\"Enter choice (1/2/3/4): \")\n",
        "    num1 = float(input(\"Enter first number: \"))\n",
        "    num2 = float(input(\"Enter second number: \"))\n",
        "\n",
        "    if choice == '1':\n",
        "        print(f\"{num1} + {num2} = {num1 + num2}\")\n",
        "    elif choice == '2':\n",
        "        print(f\"{num1} - {num2} = {num1 - num2}\")\n",
        "    elif choice == '3':\n",
        "        print(f\"{num1} * {num2} = {num1 * num2}\")\n",
        "    elif choice == '4':\n",
        "        if num2 != 0:\n",
        "            print(f\"{num1} / {num2} = {num1 / num2}\")\n",
        "        else:\n",
        "            print(\"Cannot divide by zero\")\n",
        "    else:\n",
        "        print(\"Invalid input\")\n",
        "\n",
        "calculator()\n"
      ]
    }
  ]
}